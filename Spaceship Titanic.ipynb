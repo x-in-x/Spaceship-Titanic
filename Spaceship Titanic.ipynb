{
 "cells": [
  {
   "cell_type": "code",
   "execution_count": 1,
   "id": "21b4bd49-9430-4c0c-98f8-718833fce770",
   "metadata": {},
   "outputs": [],
   "source": [
    "import pandas as pd\n",
    "import numpy as np\n",
    "from sklearn.compose import ColumnTransformer\n",
    "from sklearn.feature_extraction.text import CountVectorizer, HashingVectorizer\n",
    "from sklearn.preprocessing import Binarizer, MultiLabelBinarizer, OrdinalEncoder, OneHotEncoder\n",
    "from sklearn.feature_selection import f_classif\n",
    "\n",
    "from sklearn.experimental import enable_iterative_imputer\n",
    "from sklearn.impute import IterativeImputer\n",
    "\n",
    "from sklearn.linear_model import LogisticRegression, LogisticRegressionCV, SGDClassifier, Perceptron\n",
    "from sklearn.pipeline import Pipeline\n",
    "\n",
    "from scipy.stats import pearsonr"
   ]
  },
  {
   "cell_type": "code",
   "execution_count": 2,
   "id": "5500b0f4-ff80-47da-b646-2abbd42138a8",
   "metadata": {},
   "outputs": [
    {
     "name": "stdout",
     "output_type": "stream",
     "text": [
      "(8693, 14)\n"
     ]
    },
    {
     "data": {
      "text/html": [
       "<div>\n",
       "<style scoped>\n",
       "    .dataframe tbody tr th:only-of-type {\n",
       "        vertical-align: middle;\n",
       "    }\n",
       "\n",
       "    .dataframe tbody tr th {\n",
       "        vertical-align: top;\n",
       "    }\n",
       "\n",
       "    .dataframe thead th {\n",
       "        text-align: right;\n",
       "    }\n",
       "</style>\n",
       "<table border=\"1\" class=\"dataframe\">\n",
       "  <thead>\n",
       "    <tr style=\"text-align: right;\">\n",
       "      <th></th>\n",
       "      <th>PassengerId</th>\n",
       "      <th>HomePlanet</th>\n",
       "      <th>CryoSleep</th>\n",
       "      <th>Cabin</th>\n",
       "      <th>Destination</th>\n",
       "      <th>Age</th>\n",
       "      <th>VIP</th>\n",
       "      <th>RoomService</th>\n",
       "      <th>FoodCourt</th>\n",
       "      <th>ShoppingMall</th>\n",
       "      <th>Spa</th>\n",
       "      <th>VRDeck</th>\n",
       "      <th>Name</th>\n",
       "      <th>Transported</th>\n",
       "    </tr>\n",
       "  </thead>\n",
       "  <tbody>\n",
       "    <tr>\n",
       "      <th>0</th>\n",
       "      <td>0001_01</td>\n",
       "      <td>Europa</td>\n",
       "      <td>False</td>\n",
       "      <td>B/0/P</td>\n",
       "      <td>TRAPPIST-1e</td>\n",
       "      <td>39.0</td>\n",
       "      <td>False</td>\n",
       "      <td>0.0</td>\n",
       "      <td>0.0</td>\n",
       "      <td>0.0</td>\n",
       "      <td>0.0</td>\n",
       "      <td>0.0</td>\n",
       "      <td>Maham Ofracculy</td>\n",
       "      <td>False</td>\n",
       "    </tr>\n",
       "    <tr>\n",
       "      <th>1</th>\n",
       "      <td>0002_01</td>\n",
       "      <td>Earth</td>\n",
       "      <td>False</td>\n",
       "      <td>F/0/S</td>\n",
       "      <td>TRAPPIST-1e</td>\n",
       "      <td>24.0</td>\n",
       "      <td>False</td>\n",
       "      <td>109.0</td>\n",
       "      <td>9.0</td>\n",
       "      <td>25.0</td>\n",
       "      <td>549.0</td>\n",
       "      <td>44.0</td>\n",
       "      <td>Juanna Vines</td>\n",
       "      <td>True</td>\n",
       "    </tr>\n",
       "    <tr>\n",
       "      <th>2</th>\n",
       "      <td>0003_01</td>\n",
       "      <td>Europa</td>\n",
       "      <td>False</td>\n",
       "      <td>A/0/S</td>\n",
       "      <td>TRAPPIST-1e</td>\n",
       "      <td>58.0</td>\n",
       "      <td>True</td>\n",
       "      <td>43.0</td>\n",
       "      <td>3576.0</td>\n",
       "      <td>0.0</td>\n",
       "      <td>6715.0</td>\n",
       "      <td>49.0</td>\n",
       "      <td>Altark Susent</td>\n",
       "      <td>False</td>\n",
       "    </tr>\n",
       "    <tr>\n",
       "      <th>3</th>\n",
       "      <td>0003_02</td>\n",
       "      <td>Europa</td>\n",
       "      <td>False</td>\n",
       "      <td>A/0/S</td>\n",
       "      <td>TRAPPIST-1e</td>\n",
       "      <td>33.0</td>\n",
       "      <td>False</td>\n",
       "      <td>0.0</td>\n",
       "      <td>1283.0</td>\n",
       "      <td>371.0</td>\n",
       "      <td>3329.0</td>\n",
       "      <td>193.0</td>\n",
       "      <td>Solam Susent</td>\n",
       "      <td>False</td>\n",
       "    </tr>\n",
       "    <tr>\n",
       "      <th>4</th>\n",
       "      <td>0004_01</td>\n",
       "      <td>Earth</td>\n",
       "      <td>False</td>\n",
       "      <td>F/1/S</td>\n",
       "      <td>TRAPPIST-1e</td>\n",
       "      <td>16.0</td>\n",
       "      <td>False</td>\n",
       "      <td>303.0</td>\n",
       "      <td>70.0</td>\n",
       "      <td>151.0</td>\n",
       "      <td>565.0</td>\n",
       "      <td>2.0</td>\n",
       "      <td>Willy Santantines</td>\n",
       "      <td>True</td>\n",
       "    </tr>\n",
       "  </tbody>\n",
       "</table>\n",
       "</div>"
      ],
      "text/plain": [
       "  PassengerId HomePlanet CryoSleep  Cabin  Destination   Age    VIP  \\\n",
       "0     0001_01     Europa     False  B/0/P  TRAPPIST-1e  39.0  False   \n",
       "1     0002_01      Earth     False  F/0/S  TRAPPIST-1e  24.0  False   \n",
       "2     0003_01     Europa     False  A/0/S  TRAPPIST-1e  58.0   True   \n",
       "3     0003_02     Europa     False  A/0/S  TRAPPIST-1e  33.0  False   \n",
       "4     0004_01      Earth     False  F/1/S  TRAPPIST-1e  16.0  False   \n",
       "\n",
       "   RoomService  FoodCourt  ShoppingMall     Spa  VRDeck               Name  \\\n",
       "0          0.0        0.0           0.0     0.0     0.0    Maham Ofracculy   \n",
       "1        109.0        9.0          25.0   549.0    44.0       Juanna Vines   \n",
       "2         43.0     3576.0           0.0  6715.0    49.0      Altark Susent   \n",
       "3          0.0     1283.0         371.0  3329.0   193.0       Solam Susent   \n",
       "4        303.0       70.0         151.0   565.0     2.0  Willy Santantines   \n",
       "\n",
       "   Transported  \n",
       "0        False  \n",
       "1         True  \n",
       "2        False  \n",
       "3        False  \n",
       "4         True  "
      ]
     },
     "execution_count": 2,
     "metadata": {},
     "output_type": "execute_result"
    }
   ],
   "source": [
    "DF_train = pd.read_csv('train.csv')\n",
    "print(DF_train.shape)\n",
    "DF_train.head(5)"
   ]
  },
  {
   "cell_type": "markdown",
   "id": "d0fce5c7-5753-4273-8ef8-17bd8dcc0f02",
   "metadata": {},
   "source": [
    "Booleanize 'Transported' to fix the two string entries, and then tally the results:"
   ]
  },
  {
   "cell_type": "code",
   "execution_count": 3,
   "id": "0001ac0d-3ec1-471d-8813-8b2d9eb20e64",
   "metadata": {},
   "outputs": [
    {
     "data": {
      "text/plain": [
       "Transported\n",
       "False    4315\n",
       "True     4378\n",
       "Name: Transported, dtype: int64"
      ]
     },
     "execution_count": 3,
     "metadata": {},
     "output_type": "execute_result"
    }
   ],
   "source": [
    "DF_train['Transported']=DF_train['Transported'].astype(bool)\n",
    "DF_train.groupby(['Transported'])['Transported'].count()"
   ]
  },
  {
   "cell_type": "markdown",
   "id": "c745d43b-1764-41b1-b65e-febc99dde904",
   "metadata": {},
   "source": [
    "SKIP TO BELOW IF KEEPING NULL-ENTRY ROWS IN TRAINING:\n",
    "\n",
    "Find all rows with null entries, add tuple per such row: (null values for index, index), and sort descending."
   ]
  },
  {
   "cell_type": "code",
   "execution_count": 4,
   "id": "9c0c1d87-8aec-4841-9a2f-459c7f9dc428",
   "metadata": {},
   "outputs": [],
   "source": [
    "# null-entry row removal cell 1/12\n",
    "\n",
    "nulllist = []\n",
    "for i in range(len(DF_train.index)):\n",
    "    nulllist.append((DF_train.iloc[i].isnull().sum(),i))\n",
    "nulllist.sort(reverse=True)"
   ]
  },
  {
   "cell_type": "code",
   "execution_count": 5,
   "id": "52d956c4-8f81-4b6f-a381-56a3662047f7",
   "metadata": {},
   "outputs": [
    {
     "name": "stdout",
     "output_type": "stream",
     "text": [
      "0 :  (3, 7682)\n",
      "100 :  (2, 4544)\n",
      "1000 :  (1, 5026)\n",
      "2000 :  (1, 407)\n",
      "2500 :  (0, 8151)\n"
     ]
    }
   ],
   "source": [
    "# null-entry row removal cell 2/12\n",
    "\n",
    "for index in [0,100,1000,2000,2500]:\n",
    "    print(index,': ',nulllist[index])"
   ]
  },
  {
   "cell_type": "markdown",
   "id": "b04b3e8c-f3e4-4dc5-8e81-9eb5a1fb820b",
   "metadata": {},
   "source": [
    "So of the 8700 entries, only about 2000-2500 of them have null values.  The remaining 6000 entries may be sufficient to train.  We'll have to add new categorical labels for the test set null values, but this should be fine.\n",
    "\n",
    "Let's find out how many entries have null values:"
   ]
  },
  {
   "cell_type": "code",
   "execution_count": 6,
   "id": "6725578b-2305-438d-ad57-3efebdb895d6",
   "metadata": {},
   "outputs": [
    {
     "name": "stdout",
     "output_type": "stream",
     "text": [
      "2087\n"
     ]
    }
   ],
   "source": [
    "# null-entry row removal cell 3/12\n",
    "\n",
    "i=0\n",
    "while nulllist[i][0]!=0:\n",
    "    i+=1\n",
    "print(i)"
   ]
  },
  {
   "cell_type": "markdown",
   "id": "a8b5be9f-6d01-4fb4-a1c3-dbae7348f670",
   "metadata": {},
   "source": [
    "Indeed we can see null values per row drops from 1 to 0 at that index:"
   ]
  },
  {
   "cell_type": "code",
   "execution_count": 7,
   "id": "c82802de-5055-4681-9660-911ba68ee67e",
   "metadata": {},
   "outputs": [
    {
     "name": "stdout",
     "output_type": "stream",
     "text": [
      "(1, 7)\n",
      "(0, 8692)\n"
     ]
    }
   ],
   "source": [
    "# null-entry row removal cell 4/12\n",
    "\n",
    "print(nulllist[2086])\n",
    "print(nulllist[2087])"
   ]
  },
  {
   "cell_type": "markdown",
   "id": "f6555e51-e06c-49cd-bd91-131cac15b0f5",
   "metadata": {},
   "source": [
    "So for the first 2087 indices of nulllist, we will remove row nulllist[index][1] from the data set."
   ]
  },
  {
   "cell_type": "code",
   "execution_count": 8,
   "id": "675965cf-4270-4cc9-93a5-5766bc42da76",
   "metadata": {},
   "outputs": [
    {
     "data": {
      "text/plain": [
       "(6606, 14)"
      ]
     },
     "execution_count": 8,
     "metadata": {},
     "output_type": "execute_result"
    }
   ],
   "source": [
    "# null-entry row removal cell 5/12\n",
    "\n",
    "L=[]\n",
    "for i in range(2087):\n",
    "    L.append(nulllist[i][1])\n",
    "DF_train=DF_train.drop(L)\n",
    "DF_train.shape"
   ]
  },
  {
   "cell_type": "markdown",
   "id": "a3013ce9-581f-47f7-999a-0e39513c6378",
   "metadata": {},
   "source": [
    "Recheck 'Transported' distribution:"
   ]
  },
  {
   "cell_type": "code",
   "execution_count": 9,
   "id": "3532f3ba-18c3-4d19-b2db-3a463dd7d10d",
   "metadata": {},
   "outputs": [
    {
     "data": {
      "text/plain": [
       "Transported\n",
       "False    3279\n",
       "True     3327\n",
       "Name: Transported, dtype: int64"
      ]
     },
     "execution_count": 9,
     "metadata": {},
     "output_type": "execute_result"
    }
   ],
   "source": [
    "# null-entry row removal cell 6/12\n",
    "\n",
    "DF_train.groupby(['Transported'])['Transported'].count()"
   ]
  },
  {
   "cell_type": "markdown",
   "id": "94982024-7cd9-4073-9a10-b4c10f3aacc6",
   "metadata": {},
   "source": [
    "Still about 50/50, so there should still be a good representation in the features.\n",
    "\n",
    "Let's get our features ready, beginning with converting the 'Cabin' string to a tuple."
   ]
  },
  {
   "cell_type": "code",
   "execution_count": 10,
   "id": "db4d5f8e-757e-4418-a33c-950868353b8a",
   "metadata": {},
   "outputs": [
    {
     "data": {
      "text/html": [
       "<div>\n",
       "<style scoped>\n",
       "    .dataframe tbody tr th:only-of-type {\n",
       "        vertical-align: middle;\n",
       "    }\n",
       "\n",
       "    .dataframe tbody tr th {\n",
       "        vertical-align: top;\n",
       "    }\n",
       "\n",
       "    .dataframe thead th {\n",
       "        text-align: right;\n",
       "    }\n",
       "</style>\n",
       "<table border=\"1\" class=\"dataframe\">\n",
       "  <thead>\n",
       "    <tr style=\"text-align: right;\">\n",
       "      <th></th>\n",
       "      <th>PassengerId</th>\n",
       "      <th>HomePlanet</th>\n",
       "      <th>CryoSleep</th>\n",
       "      <th>Cabin</th>\n",
       "      <th>Destination</th>\n",
       "      <th>Age</th>\n",
       "      <th>VIP</th>\n",
       "      <th>RoomService</th>\n",
       "      <th>FoodCourt</th>\n",
       "      <th>ShoppingMall</th>\n",
       "      <th>Spa</th>\n",
       "      <th>VRDeck</th>\n",
       "      <th>Name</th>\n",
       "      <th>Transported</th>\n",
       "    </tr>\n",
       "  </thead>\n",
       "  <tbody>\n",
       "    <tr>\n",
       "      <th>0</th>\n",
       "      <td>0001_01</td>\n",
       "      <td>Europa</td>\n",
       "      <td>False</td>\n",
       "      <td>(B, 0, P)</td>\n",
       "      <td>TRAPPIST-1e</td>\n",
       "      <td>39.0</td>\n",
       "      <td>False</td>\n",
       "      <td>0.0</td>\n",
       "      <td>0.0</td>\n",
       "      <td>0.0</td>\n",
       "      <td>0.0</td>\n",
       "      <td>0.0</td>\n",
       "      <td>Maham Ofracculy</td>\n",
       "      <td>False</td>\n",
       "    </tr>\n",
       "    <tr>\n",
       "      <th>1</th>\n",
       "      <td>0002_01</td>\n",
       "      <td>Earth</td>\n",
       "      <td>False</td>\n",
       "      <td>(F, 0, S)</td>\n",
       "      <td>TRAPPIST-1e</td>\n",
       "      <td>24.0</td>\n",
       "      <td>False</td>\n",
       "      <td>109.0</td>\n",
       "      <td>9.0</td>\n",
       "      <td>25.0</td>\n",
       "      <td>549.0</td>\n",
       "      <td>44.0</td>\n",
       "      <td>Juanna Vines</td>\n",
       "      <td>True</td>\n",
       "    </tr>\n",
       "    <tr>\n",
       "      <th>2</th>\n",
       "      <td>0003_01</td>\n",
       "      <td>Europa</td>\n",
       "      <td>False</td>\n",
       "      <td>(A, 0, S)</td>\n",
       "      <td>TRAPPIST-1e</td>\n",
       "      <td>58.0</td>\n",
       "      <td>True</td>\n",
       "      <td>43.0</td>\n",
       "      <td>3576.0</td>\n",
       "      <td>0.0</td>\n",
       "      <td>6715.0</td>\n",
       "      <td>49.0</td>\n",
       "      <td>Altark Susent</td>\n",
       "      <td>False</td>\n",
       "    </tr>\n",
       "    <tr>\n",
       "      <th>3</th>\n",
       "      <td>0003_02</td>\n",
       "      <td>Europa</td>\n",
       "      <td>False</td>\n",
       "      <td>(A, 0, S)</td>\n",
       "      <td>TRAPPIST-1e</td>\n",
       "      <td>33.0</td>\n",
       "      <td>False</td>\n",
       "      <td>0.0</td>\n",
       "      <td>1283.0</td>\n",
       "      <td>371.0</td>\n",
       "      <td>3329.0</td>\n",
       "      <td>193.0</td>\n",
       "      <td>Solam Susent</td>\n",
       "      <td>False</td>\n",
       "    </tr>\n",
       "    <tr>\n",
       "      <th>4</th>\n",
       "      <td>0004_01</td>\n",
       "      <td>Earth</td>\n",
       "      <td>False</td>\n",
       "      <td>(F, 1, S)</td>\n",
       "      <td>TRAPPIST-1e</td>\n",
       "      <td>16.0</td>\n",
       "      <td>False</td>\n",
       "      <td>303.0</td>\n",
       "      <td>70.0</td>\n",
       "      <td>151.0</td>\n",
       "      <td>565.0</td>\n",
       "      <td>2.0</td>\n",
       "      <td>Willy Santantines</td>\n",
       "      <td>True</td>\n",
       "    </tr>\n",
       "  </tbody>\n",
       "</table>\n",
       "</div>"
      ],
      "text/plain": [
       "  PassengerId HomePlanet CryoSleep      Cabin  Destination   Age    VIP  \\\n",
       "0     0001_01     Europa     False  (B, 0, P)  TRAPPIST-1e  39.0  False   \n",
       "1     0002_01      Earth     False  (F, 0, S)  TRAPPIST-1e  24.0  False   \n",
       "2     0003_01     Europa     False  (A, 0, S)  TRAPPIST-1e  58.0   True   \n",
       "3     0003_02     Europa     False  (A, 0, S)  TRAPPIST-1e  33.0  False   \n",
       "4     0004_01      Earth     False  (F, 1, S)  TRAPPIST-1e  16.0  False   \n",
       "\n",
       "   RoomService  FoodCourt  ShoppingMall     Spa  VRDeck               Name  \\\n",
       "0          0.0        0.0           0.0     0.0     0.0    Maham Ofracculy   \n",
       "1        109.0        9.0          25.0   549.0    44.0       Juanna Vines   \n",
       "2         43.0     3576.0           0.0  6715.0    49.0      Altark Susent   \n",
       "3          0.0     1283.0         371.0  3329.0   193.0       Solam Susent   \n",
       "4        303.0       70.0         151.0   565.0     2.0  Willy Santantines   \n",
       "\n",
       "   Transported  \n",
       "0        False  \n",
       "1         True  \n",
       "2        False  \n",
       "3        False  \n",
       "4         True  "
      ]
     },
     "execution_count": 10,
     "metadata": {},
     "output_type": "execute_result"
    }
   ],
   "source": [
    "# null-entry row removal cell 7/12\n",
    "\n",
    "DF_train['Cabin']=DF_train['Cabin'].str.replace('/','')\n",
    "#DF_train['Cabin']=DF_train['Cabin'].str.split('/')\n",
    "DF_train['Cabin']=DF_train['Cabin'].apply(lambda x: tuple(x))\n",
    "#DF_train['Cabin']=DF_train['Cabin'].apply(lambda t: (t[0],int(t[1]),t[2]))\n",
    "DF_train.head(5)"
   ]
  },
  {
   "cell_type": "markdown",
   "id": "190d27aa-f300-426a-bdbd-a1ef913a90c2",
   "metadata": {},
   "source": [
    "Stringify categorical features."
   ]
  },
  {
   "cell_type": "code",
   "execution_count": 11,
   "id": "b06ed2b5-84cd-407c-8256-fa3fdb830055",
   "metadata": {},
   "outputs": [],
   "source": [
    "# null-entry row removal cell 8/12\n",
    "\n",
    "DF_train['CryoSleep']=DF_train['CryoSleep'].astype(str)\n",
    "DF_train['VIP']=DF_train['VIP'].astype(str)"
   ]
  },
  {
   "cell_type": "code",
   "execution_count": 12,
   "id": "59859179-5811-46b6-886a-2ff01c994ce9",
   "metadata": {
    "tags": []
   },
   "outputs": [],
   "source": [
    "# null-entry row removal cell 9/12\n",
    "\n",
    "ct = ColumnTransformer([\n",
    "    ('labelEncode',OrdinalEncoder(),[1,2,4,6])\n",
    "])\n",
    "\n",
    "categorical_features = ct.fit_transform(DF_train)\n",
    "\n",
    "mlb = MultiLabelBinarizer()\n",
    "cabin_features=mlb.fit_transform(DF_train['Cabin'])"
   ]
  },
  {
   "cell_type": "code",
   "execution_count": 13,
   "id": "802a78da-0e25-4a93-83c8-65df31545a8c",
   "metadata": {},
   "outputs": [
    {
     "data": {
      "text/plain": [
       "((6606, 4), (6606, 20))"
      ]
     },
     "execution_count": 13,
     "metadata": {},
     "output_type": "execute_result"
    }
   ],
   "source": [
    "# null-entry row removal cell 10/12\n",
    "\n",
    "categorical_features.shape, cabin_features.shape"
   ]
  },
  {
   "cell_type": "markdown",
   "id": "1820e5ff-4b11-4a3d-b196-3884028730cc",
   "metadata": {},
   "source": [
    "Grab 'Age' and Spending columns and force them into column vectors for concatenation."
   ]
  },
  {
   "cell_type": "code",
   "execution_count": 14,
   "id": "3794406d-857a-4b87-8b4d-dfe55ff6e1ab",
   "metadata": {
    "tags": []
   },
   "outputs": [],
   "source": [
    "# null-entry row removal cell 11/12\n",
    "\n",
    "age=DF_train['Age'].to_numpy()[np.newaxis].transpose()\n",
    "room=DF_train['RoomService'].to_numpy()[np.newaxis].transpose()\n",
    "food=DF_train['FoodCourt'].to_numpy()[np.newaxis].transpose()\n",
    "mall=DF_train['ShoppingMall'].to_numpy()[np.newaxis].transpose()\n",
    "spa=DF_train['Spa'].to_numpy()[np.newaxis].transpose()\n",
    "vr=DF_train['VRDeck'].to_numpy()[np.newaxis].transpose()"
   ]
  },
  {
   "cell_type": "markdown",
   "id": "b2dfb6d5-0e94-4422-beb4-0f623997f703",
   "metadata": {},
   "source": [
    "Concatenate feature numpy arrays and convert 'Transported' from boolean to int."
   ]
  },
  {
   "cell_type": "code",
   "execution_count": 15,
   "id": "ba58c251-8d6b-47c7-b3de-d0cdcb0d4450",
   "metadata": {
    "tags": []
   },
   "outputs": [],
   "source": [
    "# null-entry row removal cell 12/12\n",
    "\n",
    "x_train = np.hstack((categorical_features[:,0:3],age,categorical_features[:,3:4],room,food,mall,spa,vr,cabin_features))\n",
    "y_train = DF_train['Transported'].astype(int)"
   ]
  },
  {
   "cell_type": "markdown",
   "id": "ced7b4d7-d2fd-4b83-b09c-ff18ef85a38c",
   "metadata": {},
   "source": [
    "RUN NEXT TWO CELLS IF INCLUDING NULL-ENTRY ROWS IN TRAINING:"
   ]
  },
  {
   "cell_type": "code",
   "execution_count": 122,
   "id": "46bd4813-0570-41c4-bf1c-64ab03b70edd",
   "metadata": {},
   "outputs": [],
   "source": [
    "## keep null rows cell 1/2\n",
    "\n",
    "DF_train['HomePlanet']=DF_train['HomePlanet'].astype(str)\n",
    "DF_train['CryoSleep']=DF_train['CryoSleep'].astype(str)\n",
    "DF_train['Cabin']=DF_train['Cabin'].astype(str)\n",
    "#DF_train['Cabin']=DF_train['Cabin'].str.split('/')\n",
    "DF_train['Cabin']=DF_train['Cabin'].str.replace('/','')\n",
    "DF_train['Cabin']=DF_train['Cabin'].str.replace('nan','')\n",
    "DF_train['Cabin']=DF_train['Cabin'].apply(lambda x: tuple(x))\n",
    "DF_train['Destination']=DF_train['Destination'].astype(str)\n",
    "DF_train['VIP']=DF_train['VIP'].astype(str)"
   ]
  },
  {
   "cell_type": "code",
   "execution_count": 244,
   "id": "d0097e39-6343-40ee-af02-e2cd5dfbe23d",
   "metadata": {},
   "outputs": [],
   "source": [
    "## keep null rows cell 2/2\n",
    "\n",
    "ct = ColumnTransformer([\n",
    "    ('labelEncode',OrdinalEncoder(),[1,2,4,6]),\n",
    "    ('inputer',IterativeImputer(random_state = 5),[5,7,8,9,10,11])\n",
    "])\n",
    "\n",
    "categorical_features = ct.fit_transform(DF_train)\n",
    "\n",
    "mlb = MultiLabelBinarizer()\n",
    "cabin_features=mlb.fit_transform(DF_train['Cabin'])\n",
    "\n",
    "x_train = np.hstack((categorical_features[:,0:3], categorical_features[:,4:5], categorical_features[:,3:4], categorical_features[:,5:], cabin_features))\n",
    "y_train = DF_train['Transported'].astype(int)"
   ]
  },
  {
   "cell_type": "markdown",
   "id": "c0f4e2d3-a1d5-4faf-a566-893a53c1dea2",
   "metadata": {},
   "source": [
    "Feature-label correlations in case we want to eliminate features that don't correlate with label."
   ]
  },
  {
   "cell_type": "code",
   "execution_count": 16,
   "id": "e4239022-5774-489e-9823-d57755713717",
   "metadata": {
    "collapsed": true,
    "jupyter": {
     "outputs_hidden": true
    },
    "tags": []
   },
   "outputs": [
    {
     "name": "stdout",
     "output_type": "stream",
     "text": [
      "0 PearsonRResult(statistic=0.11180600546137501, pvalue=7.928303786165701e-20)\n",
      "1 PearsonRResult(statistic=0.4628034821535721, pvalue=0.0)\n",
      "2 PearsonRResult(statistic=-0.1237729225637928, pvalue=5.7033127849698774e-24)\n",
      "3 PearsonRResult(statistic=-0.08255287690970188, pvalue=1.8187751348149044e-11)\n",
      "4 PearsonRResult(statistic=-0.04226002786876561, pvalue=0.0005910994994036362)\n",
      "5 PearsonRResult(statistic=-0.2472907818370837, pvalue=1.2773942483633394e-92)\n",
      "6 PearsonRResult(statistic=0.055024650480644574, pvalue=7.648322367727202e-06)\n",
      "7 PearsonRResult(statistic=0.011601728883922264, pvalue=0.345777830540326)\n",
      "8 PearsonRResult(statistic=-0.21985426392033486, pvalue=3.9970291241669983e-73)\n",
      "9 PearsonRResult(statistic=-0.20794964666038246, pvalue=1.9036144515022045e-65)\n",
      "10 PearsonRResult(statistic=0.014063066445159254, pvalue=0.25310157181015214)\n",
      "11 PearsonRResult(statistic=-0.014561338711457475, pvalue=0.23667240294320854)\n",
      "12 PearsonRResult(statistic=0.028765107339321257, pvalue=0.019387680118701792)\n",
      "13 PearsonRResult(statistic=-0.020411271323607486, pvalue=0.09714966155237843)\n",
      "14 PearsonRResult(statistic=-0.05530269713472663, pvalue=6.877483813649108e-06)\n",
      "15 PearsonRResult(statistic=-0.008778118804838957, pvalue=0.4756350505877821)\n",
      "16 PearsonRResult(statistic=0.0016508781390343497, pvalue=0.8932810982019014)\n",
      "17 PearsonRResult(statistic=-0.01794239543464418, pvalue=0.14479895078232696)\n",
      "18 PearsonRResult(statistic=-0.010438944201186443, pvalue=0.39626435647954505)\n",
      "19 PearsonRResult(statistic=0.028013967799766004, pvalue=0.022791259922729675)\n",
      "20 PearsonRResult(statistic=-0.005651407086569128, pvalue=0.646056177694108)\n",
      "21 PearsonRResult(statistic=0.14628845043628005, pvalue=6.335878652054666e-33)\n",
      "22 PearsonRResult(statistic=0.10998761952550547, pvalue=3.1023837113669415e-19)\n",
      "23 PearsonRResult(statistic=-0.0397718720993546, pvalue=0.0012240413230422491)\n",
      "24 PearsonRResult(statistic=-0.09842688693103745, pvalue=1.0762757789579449e-15)\n",
      "25 PearsonRResult(statistic=-0.09484742630057942, pvalue=1.1193803380054407e-14)\n",
      "26 PearsonRResult(statistic=0.022711483555325734, pvalue=0.06491879956672746)\n",
      "27 PearsonRResult(statistic=-0.10618602391345741, pvalue=5.000755843991244e-18)\n",
      "28 PearsonRResult(statistic=0.10618602391345741, pvalue=5.000755843991244e-18)\n",
      "29 PearsonRResult(statistic=-0.0001264519696668499, pvalue=0.9918012978258907)\n"
     ]
    }
   ],
   "source": [
    "# feature-label correlations\n",
    "for i in range(x_train.shape[1]):\n",
    "    print(i,pearsonr(x_train[:,i],y_train))"
   ]
  },
  {
   "cell_type": "code",
   "execution_count": 342,
   "id": "76c766c0-9fc4-4b62-ba95-46779a4d76aa",
   "metadata": {},
   "outputs": [
    {
     "data": {
      "text/plain": [
       "(6606, 19)"
      ]
     },
     "execution_count": 342,
     "metadata": {},
     "output_type": "execute_result"
    }
   ],
   "source": [
    "# corresponding columns to remove in case where nulls are included and not included\n",
    "removed_nullcase = [4,7,10,11,12,13,15,16,17,18,20,26,29]\n",
    "removed_nonullcase = [7,10,11,13,15,16,17,18,20,26,29]\n",
    "not_features = [] # replace with one of above if this cell is run--USED FOR TEST SET\n",
    "x_train = np.delete(x_train,removed_nonullcase,axis=1)\n",
    "x_train.shape"
   ]
  },
  {
   "cell_type": "code",
   "execution_count": null,
   "id": "d2404974-c4c7-4aa5-a0d9-df4ef261d42f",
   "metadata": {},
   "outputs": [],
   "source": [
    "# feature-wise correlations\n",
    "for i in range(x_train.shape[1]):\n",
    "    for j in range(x_train.shape[1]):\n",
    "        if i<j:\n",
    "            z=pearsonr(x_train[:,i],x_train[:,j])\n",
    "            if z[1]<.05:\n",
    "                print('(%s,%s)'%(i,j))\n",
    "                print('     ',pearsonr(x_train[:,i],x_train[:,j]))"
   ]
  },
  {
   "cell_type": "code",
   "execution_count": 17,
   "id": "9b6217f7-159c-407b-84a8-936c1248ae80",
   "metadata": {
    "tags": []
   },
   "outputs": [],
   "source": [
    "LR = LogisticRegressionCV(random_state = 3, max_iter = 10000, verbose = 1, n_jobs = 5, cv=5, fit_intercept=False)"
   ]
  },
  {
   "cell_type": "code",
   "execution_count": 18,
   "id": "82b9dd3d-0e45-4ed6-a1c6-24e89b9e4407",
   "metadata": {
    "tags": []
   },
   "outputs": [
    {
     "name": "stderr",
     "output_type": "stream",
     "text": [
      "[Parallel(n_jobs=5)]: Using backend LokyBackend with 5 concurrent workers.\n",
      "[Parallel(n_jobs=5)]: Done   2 out of   5 | elapsed:    1.3s remaining:    2.0s\n",
      "[Parallel(n_jobs=5)]: Done   5 out of   5 | elapsed:    1.4s finished\n"
     ]
    },
    {
     "data": {
      "text/plain": [
       "0.796094459582198"
      ]
     },
     "execution_count": 18,
     "metadata": {},
     "output_type": "execute_result"
    }
   ],
   "source": [
    "model = LR.fit(x_train,y_train)\n",
    "model.score(x_train,y_train)"
   ]
  },
  {
   "cell_type": "markdown",
   "id": "b27b7e9b-b6b8-4d0c-8d3f-b131c2dab2e8",
   "metadata": {},
   "source": [
    "Let's do some hyperparameter tuning to see if we can get this higher."
   ]
  },
  {
   "cell_type": "code",
   "execution_count": 19,
   "id": "14d98a67-1fe1-4af8-b34e-e68857815a37",
   "metadata": {
    "tags": []
   },
   "outputs": [
    {
     "name": "stdout",
     "output_type": "stream",
     "text": [
      "Accuracy:  0.7966999697244929     Solver:  newton-cg   Penalty:  l2\n",
      "Accuracy:  0.796094459582198     Solver:  lbfgs   Penalty:  l2\n",
      "Accuracy:  0.7968513472600666     Solver:  liblinear   Penalty:  l2\n",
      "Accuracy:  0.7812594610959733     Solver:  sag   Penalty:  l2\n",
      "Accuracy:  0.7812594610959733     Solver:  saga   Penalty:  l2\n",
      "Accuracy:  0.7980623675446564     Solver:  liblinear   Penalty:  l1\n",
      "Accuracy:  0.7815622161671208     Solver:  saga   Penalty:  l1\n",
      "Accuracy:  0.7815622161671208     Solver:  saga   Penalty:  elasticnet\n"
     ]
    }
   ],
   "source": [
    "penalties = ['l2','l1','elasticnet']\n",
    "solvers = ['newton-cg', 'lbfgs', 'liblinear', 'sag', 'saga']\n",
    "\n",
    "for pen in penalties:\n",
    "    for solve in solvers:\n",
    "        if pen=='l1' and solve in ['newton-cg', 'lbfgs', 'sag']:\n",
    "            continue\n",
    "        if pen=='elasticnet' and solve!='saga':\n",
    "            continue\n",
    "        if pen=='elasticnet' and solve=='saga': #l1_ratios in model without warning message\n",
    "            LR = LogisticRegressionCV(random_state = 3, max_iter = 10000, cv=5, n_jobs = 5, l1_ratios=[.5], solver=solve, penalty=pen, fit_intercept=False)\n",
    "            model = LR.fit(x_train,y_train)\n",
    "            print('Accuracy:  %s     Solver:  %s   Penalty:  %s' % (model.score(x_train,y_train),solve,pen))\n",
    "            continue\n",
    "        LR = LogisticRegressionCV(random_state = 3, max_iter = 10000, cv=5, n_jobs = 5, solver=solve, penalty=pen, fit_intercept=False)\n",
    "        model = LR.fit(x_train,y_train)\n",
    "        print('Accuracy:  %s     Solver:  %s   Penalty:  %s' % (model.score(x_train,y_train),solve,pen))"
   ]
  },
  {
   "cell_type": "code",
   "execution_count": 20,
   "id": "2cd99197-07a7-44a1-92ff-89586cde29c5",
   "metadata": {},
   "outputs": [
    {
     "name": "stdout",
     "output_type": "stream",
     "text": [
      "Accuracy:  0.7848925219497427     Loss:  hinge\n",
      "Accuracy:  0.6631849833484711     Loss:  log_loss\n",
      "Accuracy:  0.5897668785952165     Loss:  modified_huber\n",
      "Accuracy:  0.7544656372994247     Loss:  squared_hinge\n",
      "Accuracy:  0.7833787465940054     Loss:  perceptron\n",
      "Accuracy:  0.5392067817135937     Loss:  squared_error\n",
      "Accuracy:  0.598698153194066     Loss:  huber\n",
      "Accuracy:  0.29125037844383894     Loss:  epsilon_insensitive\n",
      "Accuracy:  0.5888586133817741     Loss:  squared_epsilon_insensitive\n"
     ]
    }
   ],
   "source": [
    "loss = ['hinge', 'log_loss', 'modified_huber', 'squared_hinge', 'perceptron', 'squared_error', 'huber', 'epsilon_insensitive', 'squared_epsilon_insensitive']\n",
    "for los in loss:\n",
    "    SGD = SGDClassifier(random_state=3, n_jobs=5, loss=los)\n",
    "    model = SGD.fit(x_train,y_train)\n",
    "    print('Accuracy:  %s     Loss:  %s' % (model.score(x_train,y_train),los))"
   ]
  },
  {
   "cell_type": "code",
   "execution_count": 21,
   "id": "b058e7bd-c652-4c10-a22b-f1dccc8b8175",
   "metadata": {},
   "outputs": [
    {
     "name": "stdout",
     "output_type": "stream",
     "text": [
      "Accuracy:  0.7839842567363003       Penalty:  l1\n",
      "Accuracy:  0.7458371177717227       Penalty:  l2\n",
      "Accuracy:  0.6780199818346957       Penalty:  elasticnet\n"
     ]
    }
   ],
   "source": [
    "penalties = ['l1','l2','elasticnet']\n",
    "for pen in penalties:\n",
    "    perceptron = Perceptron(n_jobs=5, random_state=3, penalty=pen)\n",
    "    model = perceptron.fit(x_train,y_train)\n",
    "    print('Accuracy:  %s       Penalty:  %s' % (model.score(x_train,y_train),pen))"
   ]
  },
  {
   "cell_type": "markdown",
   "id": "2b6baa02-8923-4ba6-a74c-89e92eb5a3d4",
   "metadata": {},
   "source": [
    "Looks like we'll go with Logistic Regression with cross validation, liblinear solver and l1 penalty."
   ]
  },
  {
   "cell_type": "code",
   "execution_count": 22,
   "id": "7f2e6511-51b7-48fb-b251-f90d0279539f",
   "metadata": {},
   "outputs": [
    {
     "name": "stdout",
     "output_type": "stream",
     "text": [
      "Accuracy:  0.7980623675446564     Solver:  liblinear   Penalty:  l1\n"
     ]
    }
   ],
   "source": [
    "solve = 'liblinear'\n",
    "pen = 'l1'\n",
    "LR = LogisticRegressionCV(random_state = 3, max_iter = 10000, cv=5, n_jobs = 5, solver=solve, penalty=pen, fit_intercept=False)\n",
    "model = LR.fit(x_train,y_train)\n",
    "print('Accuracy:  %s     Solver:  %s   Penalty:  %s' % (model.score(x_train,y_train),solve,pen))"
   ]
  },
  {
   "cell_type": "markdown",
   "id": "09ed7411-7e4f-4ff9-abe3-49bc3ac2191a",
   "metadata": {},
   "source": [
    "Load in test set for analysis:"
   ]
  },
  {
   "cell_type": "code",
   "execution_count": 23,
   "id": "ab9a6071-0836-442d-9bd5-7ad3852916fc",
   "metadata": {},
   "outputs": [
    {
     "data": {
      "text/html": [
       "<div>\n",
       "<style scoped>\n",
       "    .dataframe tbody tr th:only-of-type {\n",
       "        vertical-align: middle;\n",
       "    }\n",
       "\n",
       "    .dataframe tbody tr th {\n",
       "        vertical-align: top;\n",
       "    }\n",
       "\n",
       "    .dataframe thead th {\n",
       "        text-align: right;\n",
       "    }\n",
       "</style>\n",
       "<table border=\"1\" class=\"dataframe\">\n",
       "  <thead>\n",
       "    <tr style=\"text-align: right;\">\n",
       "      <th></th>\n",
       "      <th>PassengerId</th>\n",
       "      <th>HomePlanet</th>\n",
       "      <th>CryoSleep</th>\n",
       "      <th>Cabin</th>\n",
       "      <th>Destination</th>\n",
       "      <th>Age</th>\n",
       "      <th>VIP</th>\n",
       "      <th>RoomService</th>\n",
       "      <th>FoodCourt</th>\n",
       "      <th>ShoppingMall</th>\n",
       "      <th>Spa</th>\n",
       "      <th>VRDeck</th>\n",
       "      <th>Name</th>\n",
       "    </tr>\n",
       "  </thead>\n",
       "  <tbody>\n",
       "    <tr>\n",
       "      <th>0</th>\n",
       "      <td>0013_01</td>\n",
       "      <td>Earth</td>\n",
       "      <td>True</td>\n",
       "      <td>G/3/S</td>\n",
       "      <td>TRAPPIST-1e</td>\n",
       "      <td>27.0</td>\n",
       "      <td>False</td>\n",
       "      <td>0.0</td>\n",
       "      <td>0.0</td>\n",
       "      <td>0.0</td>\n",
       "      <td>0.0</td>\n",
       "      <td>0.0</td>\n",
       "      <td>Nelly Carsoning</td>\n",
       "    </tr>\n",
       "    <tr>\n",
       "      <th>1</th>\n",
       "      <td>0018_01</td>\n",
       "      <td>Earth</td>\n",
       "      <td>False</td>\n",
       "      <td>F/4/S</td>\n",
       "      <td>TRAPPIST-1e</td>\n",
       "      <td>19.0</td>\n",
       "      <td>False</td>\n",
       "      <td>0.0</td>\n",
       "      <td>9.0</td>\n",
       "      <td>0.0</td>\n",
       "      <td>2823.0</td>\n",
       "      <td>0.0</td>\n",
       "      <td>Lerome Peckers</td>\n",
       "    </tr>\n",
       "    <tr>\n",
       "      <th>2</th>\n",
       "      <td>0019_01</td>\n",
       "      <td>Europa</td>\n",
       "      <td>True</td>\n",
       "      <td>C/0/S</td>\n",
       "      <td>55 Cancri e</td>\n",
       "      <td>31.0</td>\n",
       "      <td>False</td>\n",
       "      <td>0.0</td>\n",
       "      <td>0.0</td>\n",
       "      <td>0.0</td>\n",
       "      <td>0.0</td>\n",
       "      <td>0.0</td>\n",
       "      <td>Sabih Unhearfus</td>\n",
       "    </tr>\n",
       "    <tr>\n",
       "      <th>3</th>\n",
       "      <td>0021_01</td>\n",
       "      <td>Europa</td>\n",
       "      <td>False</td>\n",
       "      <td>C/1/S</td>\n",
       "      <td>TRAPPIST-1e</td>\n",
       "      <td>38.0</td>\n",
       "      <td>False</td>\n",
       "      <td>0.0</td>\n",
       "      <td>6652.0</td>\n",
       "      <td>0.0</td>\n",
       "      <td>181.0</td>\n",
       "      <td>585.0</td>\n",
       "      <td>Meratz Caltilter</td>\n",
       "    </tr>\n",
       "    <tr>\n",
       "      <th>4</th>\n",
       "      <td>0023_01</td>\n",
       "      <td>Earth</td>\n",
       "      <td>False</td>\n",
       "      <td>F/5/S</td>\n",
       "      <td>TRAPPIST-1e</td>\n",
       "      <td>20.0</td>\n",
       "      <td>False</td>\n",
       "      <td>10.0</td>\n",
       "      <td>0.0</td>\n",
       "      <td>635.0</td>\n",
       "      <td>0.0</td>\n",
       "      <td>0.0</td>\n",
       "      <td>Brence Harperez</td>\n",
       "    </tr>\n",
       "  </tbody>\n",
       "</table>\n",
       "</div>"
      ],
      "text/plain": [
       "  PassengerId HomePlanet CryoSleep  Cabin  Destination   Age    VIP  \\\n",
       "0     0013_01      Earth      True  G/3/S  TRAPPIST-1e  27.0  False   \n",
       "1     0018_01      Earth     False  F/4/S  TRAPPIST-1e  19.0  False   \n",
       "2     0019_01     Europa      True  C/0/S  55 Cancri e  31.0  False   \n",
       "3     0021_01     Europa     False  C/1/S  TRAPPIST-1e  38.0  False   \n",
       "4     0023_01      Earth     False  F/5/S  TRAPPIST-1e  20.0  False   \n",
       "\n",
       "   RoomService  FoodCourt  ShoppingMall     Spa  VRDeck              Name  \n",
       "0          0.0        0.0           0.0     0.0     0.0   Nelly Carsoning  \n",
       "1          0.0        9.0           0.0  2823.0     0.0    Lerome Peckers  \n",
       "2          0.0        0.0           0.0     0.0     0.0   Sabih Unhearfus  \n",
       "3          0.0     6652.0           0.0   181.0   585.0  Meratz Caltilter  \n",
       "4         10.0        0.0         635.0     0.0     0.0   Brence Harperez  "
      ]
     },
     "execution_count": 23,
     "metadata": {},
     "output_type": "execute_result"
    }
   ],
   "source": [
    "DF_test = pd.read_csv('test.csv')\n",
    "DF_test.head(5)"
   ]
  },
  {
   "cell_type": "code",
   "execution_count": 24,
   "id": "cc4c511a-be5c-4e11-9b73-adb3f34da0d8",
   "metadata": {},
   "outputs": [],
   "source": [
    "DF_test['HomePlanet']=DF_test['HomePlanet'].astype(str)\n",
    "DF_test['CryoSleep']=DF_test['CryoSleep'].astype(str)\n",
    "DF_test['Cabin']=DF_test['Cabin'].astype(str)\n",
    "DF_test['Cabin']=DF_test['Cabin'].str.replace('/','')\n",
    "DF_test['Cabin']=DF_test['Cabin'].str.replace('nan','')\n",
    "DF_test['Cabin']=DF_test['Cabin'].apply(lambda x: tuple(x))\n",
    "DF_test['Destination']=DF_test['Destination'].astype(str)\n",
    "DF_test['VIP']=DF_test['VIP'].astype(str)\n"
   ]
  },
  {
   "cell_type": "code",
   "execution_count": 25,
   "id": "0e14b1bc-5e41-4cdd-9ba2-63627add05ad",
   "metadata": {},
   "outputs": [],
   "source": [
    "test_ct = ColumnTransformer([\n",
    "    ('ordinalEncode',OrdinalEncoder(),[1,2,4,6]),\n",
    "    ('inputer',IterativeImputer(random_state = 5),[5,7,8,9,10,11])\n",
    "])\n",
    "\n",
    "test_categorical_features = test_ct.fit_transform(DF_test)\n",
    "\n",
    "mlb = MultiLabelBinarizer()\n",
    "test_cabin_features=mlb.fit_transform(DF_test['Cabin'])"
   ]
  },
  {
   "cell_type": "code",
   "execution_count": 26,
   "id": "24748984-6372-460b-b53b-179f4c315536",
   "metadata": {},
   "outputs": [],
   "source": [
    "x_test = np.hstack((test_categorical_features[:,0:3], test_categorical_features[:,4:5], test_categorical_features[:,3:4], test_categorical_features[:,5:], test_cabin_features))"
   ]
  },
  {
   "cell_type": "markdown",
   "id": "6c606874-e841-4c51-9f11-b056e8be519a",
   "metadata": {},
   "source": [
    "Feature removal for test set:"
   ]
  },
  {
   "cell_type": "code",
   "execution_count": 334,
   "id": "850b2814-1291-4043-ab44-80bf8d856461",
   "metadata": {},
   "outputs": [
    {
     "data": {
      "text/plain": [
       "(4277, 30)"
      ]
     },
     "execution_count": 334,
     "metadata": {},
     "output_type": "execute_result"
    }
   ],
   "source": [
    "x_test = np.delete(x_test,not_features,axis=1)\n",
    "x_test.shape"
   ]
  },
  {
   "cell_type": "code",
   "execution_count": 27,
   "id": "5eb147a2-c89f-4d99-b6b9-ae1fa7ae7e65",
   "metadata": {
    "tags": []
   },
   "outputs": [],
   "source": [
    "test_prediction = model.predict(x_test)"
   ]
  },
  {
   "cell_type": "code",
   "execution_count": 28,
   "id": "3d61bff8-434f-4afd-b74e-44dee5a4319f",
   "metadata": {},
   "outputs": [],
   "source": [
    "DF_submission = pd.concat([DF_test['PassengerId'],pd.DataFrame({'Transported':test_prediction})],axis=1)\n",
    "DF_submission['Transported']=DF_submission['Transported'].astype(bool)"
   ]
  },
  {
   "cell_type": "code",
   "execution_count": 29,
   "id": "9a120600-d9e8-41e9-8875-ed56aad47013",
   "metadata": {},
   "outputs": [
    {
     "data": {
      "text/html": [
       "<div>\n",
       "<style scoped>\n",
       "    .dataframe tbody tr th:only-of-type {\n",
       "        vertical-align: middle;\n",
       "    }\n",
       "\n",
       "    .dataframe tbody tr th {\n",
       "        vertical-align: top;\n",
       "    }\n",
       "\n",
       "    .dataframe thead th {\n",
       "        text-align: right;\n",
       "    }\n",
       "</style>\n",
       "<table border=\"1\" class=\"dataframe\">\n",
       "  <thead>\n",
       "    <tr style=\"text-align: right;\">\n",
       "      <th></th>\n",
       "      <th>PassengerId</th>\n",
       "      <th>Transported</th>\n",
       "    </tr>\n",
       "  </thead>\n",
       "  <tbody>\n",
       "    <tr>\n",
       "      <th>0</th>\n",
       "      <td>0013_01</td>\n",
       "      <td>True</td>\n",
       "    </tr>\n",
       "    <tr>\n",
       "      <th>1</th>\n",
       "      <td>0018_01</td>\n",
       "      <td>False</td>\n",
       "    </tr>\n",
       "    <tr>\n",
       "      <th>2</th>\n",
       "      <td>0019_01</td>\n",
       "      <td>True</td>\n",
       "    </tr>\n",
       "    <tr>\n",
       "      <th>3</th>\n",
       "      <td>0021_01</td>\n",
       "      <td>True</td>\n",
       "    </tr>\n",
       "    <tr>\n",
       "      <th>4</th>\n",
       "      <td>0023_01</td>\n",
       "      <td>True</td>\n",
       "    </tr>\n",
       "    <tr>\n",
       "      <th>...</th>\n",
       "      <td>...</td>\n",
       "      <td>...</td>\n",
       "    </tr>\n",
       "    <tr>\n",
       "      <th>4272</th>\n",
       "      <td>9266_02</td>\n",
       "      <td>True</td>\n",
       "    </tr>\n",
       "    <tr>\n",
       "      <th>4273</th>\n",
       "      <td>9269_01</td>\n",
       "      <td>False</td>\n",
       "    </tr>\n",
       "    <tr>\n",
       "      <th>4274</th>\n",
       "      <td>9271_01</td>\n",
       "      <td>True</td>\n",
       "    </tr>\n",
       "    <tr>\n",
       "      <th>4275</th>\n",
       "      <td>9273_01</td>\n",
       "      <td>True</td>\n",
       "    </tr>\n",
       "    <tr>\n",
       "      <th>4276</th>\n",
       "      <td>9277_01</td>\n",
       "      <td>True</td>\n",
       "    </tr>\n",
       "  </tbody>\n",
       "</table>\n",
       "<p>4277 rows × 2 columns</p>\n",
       "</div>"
      ],
      "text/plain": [
       "     PassengerId  Transported\n",
       "0        0013_01         True\n",
       "1        0018_01        False\n",
       "2        0019_01         True\n",
       "3        0021_01         True\n",
       "4        0023_01         True\n",
       "...          ...          ...\n",
       "4272     9266_02         True\n",
       "4273     9269_01        False\n",
       "4274     9271_01         True\n",
       "4275     9273_01         True\n",
       "4276     9277_01         True\n",
       "\n",
       "[4277 rows x 2 columns]"
      ]
     },
     "execution_count": 29,
     "metadata": {},
     "output_type": "execute_result"
    }
   ],
   "source": [
    "DF_submission"
   ]
  },
  {
   "cell_type": "code",
   "execution_count": 346,
   "id": "b8c2b619-d81c-4f29-81f4-b47fdf2a827b",
   "metadata": {},
   "outputs": [],
   "source": [
    "DF_submission.to_csv('submission.csv',index=False)"
   ]
  },
  {
   "cell_type": "code",
   "execution_count": 30,
   "id": "7a18c925-c5c3-4305-aeb2-17ae747d3924",
   "metadata": {},
   "outputs": [
    {
     "data": {
      "text/html": [
       "<div>\n",
       "<style scoped>\n",
       "    .dataframe tbody tr th:only-of-type {\n",
       "        vertical-align: middle;\n",
       "    }\n",
       "\n",
       "    .dataframe tbody tr th {\n",
       "        vertical-align: top;\n",
       "    }\n",
       "\n",
       "    .dataframe thead th {\n",
       "        text-align: right;\n",
       "    }\n",
       "</style>\n",
       "<table border=\"1\" class=\"dataframe\">\n",
       "  <thead>\n",
       "    <tr style=\"text-align: right;\">\n",
       "      <th></th>\n",
       "      <th>PassengerId</th>\n",
       "    </tr>\n",
       "    <tr>\n",
       "      <th>Transported</th>\n",
       "      <th></th>\n",
       "    </tr>\n",
       "  </thead>\n",
       "  <tbody>\n",
       "    <tr>\n",
       "      <th>False</th>\n",
       "      <td>1970</td>\n",
       "    </tr>\n",
       "    <tr>\n",
       "      <th>True</th>\n",
       "      <td>2307</td>\n",
       "    </tr>\n",
       "  </tbody>\n",
       "</table>\n",
       "</div>"
      ],
      "text/plain": [
       "             PassengerId\n",
       "Transported             \n",
       "False               1970\n",
       "True                2307"
      ]
     },
     "execution_count": 30,
     "metadata": {},
     "output_type": "execute_result"
    }
   ],
   "source": [
    "DF_submission.groupby(['Transported']).count()"
   ]
  },
  {
   "cell_type": "code",
   "execution_count": 31,
   "id": "83428ad4-470d-49a3-9654-a90225de63e6",
   "metadata": {},
   "outputs": [],
   "source": [
    "# comparison to best entry\n",
    "\n",
    "DF=pd.read_csv('submission_best.csv')"
   ]
  },
  {
   "cell_type": "code",
   "execution_count": 32,
   "id": "2d4abb47-0707-46bb-a8af-5e36f087d02c",
   "metadata": {},
   "outputs": [
    {
     "data": {
      "text/html": [
       "<div>\n",
       "<style scoped>\n",
       "    .dataframe tbody tr th:only-of-type {\n",
       "        vertical-align: middle;\n",
       "    }\n",
       "\n",
       "    .dataframe tbody tr th {\n",
       "        vertical-align: top;\n",
       "    }\n",
       "\n",
       "    .dataframe thead th {\n",
       "        text-align: right;\n",
       "    }\n",
       "</style>\n",
       "<table border=\"1\" class=\"dataframe\">\n",
       "  <thead>\n",
       "    <tr style=\"text-align: right;\">\n",
       "      <th></th>\n",
       "      <th>PassengerId</th>\n",
       "    </tr>\n",
       "    <tr>\n",
       "      <th>Transported</th>\n",
       "      <th></th>\n",
       "    </tr>\n",
       "  </thead>\n",
       "  <tbody>\n",
       "    <tr>\n",
       "      <th>False</th>\n",
       "      <td>1874</td>\n",
       "    </tr>\n",
       "    <tr>\n",
       "      <th>True</th>\n",
       "      <td>2403</td>\n",
       "    </tr>\n",
       "  </tbody>\n",
       "</table>\n",
       "</div>"
      ],
      "text/plain": [
       "             PassengerId\n",
       "Transported             \n",
       "False               1874\n",
       "True                2403"
      ]
     },
     "execution_count": 32,
     "metadata": {},
     "output_type": "execute_result"
    }
   ],
   "source": [
    "DF.groupby(['Transported']).count()"
   ]
  },
  {
   "cell_type": "code",
   "execution_count": null,
   "id": "8016670b-1857-497e-b9bc-54e2663f3cf4",
   "metadata": {},
   "outputs": [],
   "source": []
  }
 ],
 "metadata": {
  "kernelspec": {
   "display_name": "Python 3 (ipykernel)",
   "language": "python",
   "name": "python3"
  },
  "language_info": {
   "codemirror_mode": {
    "name": "ipython",
    "version": 3
   },
   "file_extension": ".py",
   "mimetype": "text/x-python",
   "name": "python",
   "nbconvert_exporter": "python",
   "pygments_lexer": "ipython3",
   "version": "3.10.5"
  }
 },
 "nbformat": 4,
 "nbformat_minor": 5
}
